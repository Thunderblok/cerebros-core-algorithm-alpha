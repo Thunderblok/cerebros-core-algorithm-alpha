{
 "cells": [
  {
   "cell_type": "code",
   "execution_count": 1,
   "metadata": {
    "tags": [
     "skip"
    ]
   },
   "outputs": [],
   "source": [
    "\n",
    "# a-2022-11-03--21-10-cerebros-wine-2-input-classification-dataset\n",
    "# cerebros-wine-2-input-classification-dataset\n",
    "# Cerebros wine 2 input classifier test.\n"
   ]
  },
  {
   "cell_type": "code",
   "execution_count": 3,
   "metadata": {
    "tags": [
     "imports"
    ]
   },
   "outputs": [
    {
     "name": "stderr",
     "output_type": "stream",
     "text": [
      "2022-11-04 02:06:15.364908: W tensorflow/stream_executor/platform/default/dso_loader.cc:64] Could not load dynamic library 'libcudart.so.11.0'; dlerror: libcudart.so.11.0: cannot open shared object file: No such file or directory\n",
      "2022-11-04 02:06:15.393207: E tensorflow/stream_executor/cuda/cuda_blas.cc:2981] Unable to register cuBLAS factory: Attempting to register factory for plugin cuBLAS when one has already been registered\n",
      "2022-11-04 02:06:16.156416: W tensorflow/stream_executor/platform/default/dso_loader.cc:64] Could not load dynamic library 'libnvinfer.so.7'; dlerror: libnvinfer.so.7: cannot open shared object file: No such file or directory\n",
      "2022-11-04 02:06:16.156501: W tensorflow/stream_executor/platform/default/dso_loader.cc:64] Could not load dynamic library 'libnvinfer_plugin.so.7'; dlerror: libnvinfer_plugin.so.7: cannot open shared object file: No such file or directory\n",
      "2022-11-04 02:06:16.156509: W tensorflow/compiler/tf2tensorrt/utils/py_utils.cc:38] TF-TRT Warning: Cannot dlopen some TensorRT libraries. If you would like to use Nvidia GPU with TensorRT, please make sure the missing libraries mentioned above are installed properly.\n",
      "2022-11-04 02:06:16.961719: W tensorflow/stream_executor/platform/default/dso_loader.cc:64] Could not load dynamic library 'libcuda.so.1'; dlerror: libcuda.so.1: cannot open shared object file: No such file or directory\n",
      "2022-11-04 02:06:16.961760: W tensorflow/stream_executor/cuda/cuda_driver.cc:263] failed call to cuInit: UNKNOWN ERROR (303)\n"
     ]
    }
   ],
   "source": [
    "import numpy as np\n",
    "from multiprocessing import Pool  # , Process\n",
    "from simplecerebrosrandomsearch.simple_cerebros_random_search\\\n",
    "    import SimpleCerebrosRandomSearch\n",
    "import pendulum\n",
    "import pandas as pd\n",
    "import tensorflow as tf\n",
    "from units.units import DenseUnit\n",
    "from denseautomlstructuralcomponent.dense_automl_structural_component\\\n",
    "    import zero_7_exp_decay, zero_95_exp_decay, simple_sigmoid\n",
    "from ast import literal_eval"
   ]
  },
  {
   "cell_type": "code",
   "execution_count": 5,
   "metadata": {
    "tags": [
     "block:preprocessdata"
    ]
   },
   "outputs": [],
   "source": [
    "\n",
    "TIME = pendulum.now('Europe/Paris').__str__()[:16]\\\n",
    "    .replace('T', '_')\\\n",
    "    .replace(':', '_')\\\n",
    "    .replace('-', '_')\n",
    "PROJECT_NAME = f'{TIME}_cerebros_auto_ml_test'\n",
    "\n",
    "white = pd.read_csv('wine_data.csv')\n",
    "\n",
    "tensor_x_0 =\\\n",
    "    tf.constant(white[['residual sugar',\n",
    "                       'chlorides',\n",
    "                       'total sulfur dioxide',\n",
    "                       'free sulfur dioxide']].values)\n",
    "\n",
    "tensor_x_1 =\\\n",
    "    tf.constant(white[['fixed acidity',\n",
    "                       'volatile acidity',\n",
    "                       'citric acid',\n",
    "                       'density',\n",
    "                       'pH',\n",
    "                       'sulphates',\n",
    "                       'alcohol']].values)\n",
    "\n",
    "\n",
    "training_x = [tensor_x_0, tensor_x_1]\n",
    "INPUT_SHAPES = [training_x[i].shape[1] for i in np.arange(len(training_x))]\n",
    "\n",
    "\n",
    "#alcohol_labels = tf.constant(pd.get_dummies(pd.cut(white['alcohol'], np.arange(\n",
    "#    white['alcohol'].min(), white['alcohol'].max()))).values)\n",
    "quality_labels = tf.constant(pd.get_dummies(white['quality']).values)\n",
    "\n",
    "train_labels = [quality_labels]\n",
    "\n",
    "OUTPUT_SHAPES = [train_labels[i].shape[1]\n",
    "                 for i in np.arange(len(train_labels))]\n"
   ]
  },
  {
   "cell_type": "code",
   "execution_count": 8,
   "metadata": {
    "tags": [
     "pipeline-parameters"
    ]
   },
   "outputs": [],
   "source": [
    "\n",
    "activation = 'relu'\n",
    "predecessor_level_connection_affinity_factor_first = 2.0\n",
    "predecessor_level_connection_affinity_factor_main = 0.97\n",
    "max_consecutive_lateral_connections = 5\n",
    "p_lateral_connection = 0.97\n",
    "num_lateral_connection_tries_per_unit = 2\n",
    "learning_rate = 0.001\n",
    "epochs = 10\n",
    "batch_size = 100\n",
    "    "
   ]
  },
  {
   "cell_type": "code",
   "execution_count": 11,
   "metadata": {
    "tags": [
     "block:train",
     "prev:preprocessdata"
    ]
   },
   "outputs": [
    {
     "ename": "NameError",
     "evalue": "name 'np' is not defined",
     "output_type": "error",
     "traceback": [
      "\u001b[0;31m---------------------------------------------------------------------------\u001b[0m",
      "\u001b[0;31mNameError\u001b[0m                                 Traceback (most recent call last)",
      "Cell \u001b[0;32mIn [11], line 1\u001b[0m\n\u001b[0;32m----> 1\u001b[0m meta_trial_number \u001b[38;5;241m=\u001b[39m \u001b[38;5;28mint\u001b[39m(np\u001b[38;5;241m.\u001b[39mrandom\u001b[38;5;241m.\u001b[39mrandom() \u001b[38;5;241m*\u001b[39m \u001b[38;5;241m10\u001b[39m \u001b[38;5;241m*\u001b[39m\u001b[38;5;241m*\u001b[39m \u001b[38;5;241m12\u001b[39m)\n\u001b[1;32m      3\u001b[0m cerebros \u001b[38;5;241m=\u001b[39m SimpleCerebrosRandomSearch(\n\u001b[1;32m      4\u001b[0m     unit_type\u001b[38;5;241m=\u001b[39mDenseUnit,\n\u001b[1;32m      5\u001b[0m     input_shapes\u001b[38;5;241m=\u001b[39mINPUT_SHAPES,\n\u001b[0;32m   (...)\u001b[0m\n\u001b[1;32m     48\u001b[0m     batch_size\u001b[38;5;241m=\u001b[39mbatch_size,\n\u001b[1;32m     49\u001b[0m     meta_trial_number\u001b[38;5;241m=\u001b[39mmeta_trial_number)\n\u001b[1;32m     50\u001b[0m val_top_1 \u001b[38;5;241m=\u001b[39m cerebros\u001b[38;5;241m.\u001b[39mrun_random_search()\n",
      "\u001b[0;31mNameError\u001b[0m: name 'np' is not defined"
     ]
    }
   ],
   "source": [
    "\n",
    "meta_trial_number = int(np.random.random() * 10 ** 12)\n",
    "\n",
    "cerebros = SimpleCerebrosRandomSearch(\n",
    "    unit_type=DenseUnit,\n",
    "    input_shapes=INPUT_SHAPES,\n",
    "    output_shapes=OUTPUT_SHAPES,\n",
    "    training_data=training_x,\n",
    "    labels=train_labels,\n",
    "    validation_split=0.35,\n",
    "    direction='maximize',\n",
    "    metric_to_rank_by='val_top_1',\n",
    "    minimum_levels=4,\n",
    "    maximum_levels=7,\n",
    "    minimum_units_per_level=1,\n",
    "    maximum_units_per_level=4,\n",
    "    minimum_neurons_per_unit=1,\n",
    "    maximum_neurons_per_unit=4,\n",
    "    activation=activation,\n",
    "    final_activation='softmax',\n",
    "    number_of_architecture_moities_to_try=3,\n",
    "    number_of_tries_per_architecture_moity=2,\n",
    "    number_of_generations=3,\n",
    "    minimum_skip_connection_depth=1,\n",
    "    maximum_skip_connection_depth=7,\n",
    "    predecessor_level_connection_affinity_factor_first=predecessor_level_connection_affinity_factor_first,\n",
    "    predecessor_level_connection_affinity_factor_first_rounding_rule='ceil',\n",
    "    predecessor_level_connection_affinity_factor_main=predecessor_level_connection_affinity_factor_main,\n",
    "    predecessor_level_connection_affinity_factor_main_rounding_rule='ceil',\n",
    "    predecessor_level_connection_affinity_factor_decay_main=zero_7_exp_decay,\n",
    "    seed=8675309,\n",
    "    max_consecutive_lateral_connections=max_consecutive_lateral_connections,\n",
    "    gate_after_n_lateral_connections=3,\n",
    "    gate_activation_function=simple_sigmoid,\n",
    "    p_lateral_connection=p_lateral_connection,\n",
    "    p_lateral_connection_decay=zero_95_exp_decay,\n",
    "    num_lateral_connection_tries_per_unit=num_lateral_connection_tries_per_unit,\n",
    "    learning_rate=learning_rate,\n",
    "    loss=\"categorical_crossentropy\",\n",
    "    metrics=[tf.keras.metrics.TopKCategoricalAccuracy(k=1, name='top_1'),\n",
    "             tf.keras.metrics.TopKCategoricalAccuracy(\n",
    "             k=2, name='top_2'),\n",
    "             tf.keras.metrics.TopKCategoricalAccuracy(k=3, name='top_3')],\n",
    "    epochs=epochs,\n",
    "    patience=7,\n",
    "    project_name=f\"{PROJECT_NAME}_meta_{meta_trial_number}\",\n",
    "    use_multiprocessing_for_multiple_neural_networks=False,  # pull this param\n",
    "    model_graphs='model_graphs',\n",
    "    batch_size=batch_size,\n",
    "    meta_trial_number=meta_trial_number)\n",
    "val_top_1 = cerebros.run_random_search()\n",
    " "
   ]
  },
  {
   "cell_type": "code",
   "execution_count": 12,
   "metadata": {
    "tags": [
     "pipeline-metrics"
    ]
   },
   "outputs": [
    {
     "ename": "NameError",
     "evalue": "name 'val_top_1' is not defined",
     "output_type": "error",
     "traceback": [
      "\u001b[0;31m---------------------------------------------------------------------------\u001b[0m",
      "\u001b[0;31mNameError\u001b[0m                                 Traceback (most recent call last)",
      "Cell \u001b[0;32mIn [12], line 1\u001b[0m\n\u001b[0;32m----> 1\u001b[0m \u001b[38;5;28mprint\u001b[39m(val_top_1)\n",
      "\u001b[0;31mNameError\u001b[0m: name 'val_top_1' is not defined"
     ]
    }
   ],
   "source": [
    "print(val_top_1)"
   ]
  }
 ],
 "metadata": {
  "kernelspec": {
   "display_name": "Python 3 (ipykernel)",
   "language": "python",
   "name": "python3"
  },
  "kubeflow_notebook": {
   "autosnapshot": true,
   "deploy_config": {},
   "docker_image": "gcr.io/arrikto/jupyter-kale-py38@sha256:5077b32dcbb88b4f9a77b044df2f7d0cf48a3e24932af412b017fca6dff64aaa",
   "experiment": {
    "id": "new",
    "name": "a5-cerebros-wine-2-input-class"
   },
   "experiment_name": "a5-cerebros-wine-2-input-class",
   "katib_metadata": {
    "algorithm": {
     "algorithmName": "random",
     "algorithmSettings": [
      {
       "name": "acq_optimizer",
       "value": "auto"
      },
      {
       "name": "acq_func",
       "value": "gp_hedge"
      },
      {
       "name": "base_estimator",
       "value": "GP"
      },
      {
       "name": "random_state",
       "value": "10"
      }
     ]
    },
    "maxFailedTrialCount": 1000,
    "maxTrialCount": 1000,
    "objective": {
     "additionalMetricNames": [],
     "goal": 0.999,
     "objectiveMetricName": "val-top-1",
     "type": "maximize"
    },
    "parallelTrialCount": 3,
    "parameters": [
     {
      "feasibleSpace": {
       "list": [
        "\"relu\"",
        "\"elu\"",
        "\"gelu\""
       ]
      },
      "name": "activation",
      "parameterType": "categorical"
     },
     {
      "feasibleSpace": {
       "max": "50",
       "min": "0.2",
       "step": "0.2"
      },
      "name": "predecessor_level_connection_affinity_factor_first",
      "parameterType": "double"
     },
     {
      "feasibleSpace": {
       "max": "35",
       "min": "0.2",
       "step": "0.2"
      },
      "name": "predecessor_level_connection_affinity_factor_main",
      "parameterType": "double"
     },
     {
      "feasibleSpace": {
       "max": "35",
       "min": "1",
       "step": "1"
      },
      "name": "max_consecutive_lateral_connections",
      "parameterType": "int"
     },
     {
      "feasibleSpace": {
       "max": ".98",
       "min": "0.1",
       "step": ".05"
      },
      "name": "p_lateral_connection",
      "parameterType": "double"
     },
     {
      "feasibleSpace": {
       "max": "20",
       "min": "1",
       "step": "1"
      },
      "name": "num_lateral_connection_tries_per_unit",
      "parameterType": "int"
     },
     {
      "feasibleSpace": {
       "max": "0.3",
       "min": "0.00001",
       "step": "0.0001"
      },
      "name": "learning_rate",
      "parameterType": "double"
     },
     {
      "feasibleSpace": {
       "max": "50",
       "min": "1",
       "step": "1"
      },
      "name": "epochs",
      "parameterType": "int"
     },
     {
      "feasibleSpace": {
       "max": "1000",
       "min": "5",
       "step": "5"
      },
      "name": "batch_size",
      "parameterType": "int"
     }
    ]
   },
   "katib_run": true,
   "pipeline_description": "Cerebros wine 2 input classifier test.",
   "pipeline_name": "a5-cerebros-wine-2-input-class",
   "snapshot_volumes": true,
   "volumes": [
    {
     "annotations": [],
     "mount_point": "/home/jovyan/cerebros-wine-pipeline-datavol-1",
     "name": "cerebros-wine-pipeline-datavol-1-s4w29",
     "size": 5,
     "size_type": "Gi",
     "snapshot": false,
     "type": "clone"
    },
    {
     "annotations": [],
     "mount_point": "/home/jovyan",
     "name": "cerebros-wine-pipeline-workspace-th5gf",
     "size": 5,
     "size_type": "Gi",
     "snapshot": false,
     "type": "clone"
    }
   ]
  },
  "language_info": {
   "codemirror_mode": {
    "name": "ipython",
    "version": 3
   },
   "file_extension": ".py",
   "mimetype": "text/x-python",
   "name": "python",
   "nbconvert_exporter": "python",
   "pygments_lexer": "ipython3",
   "version": "3.8.0"
  }
 },
 "nbformat": 4,
 "nbformat_minor": 4
}
