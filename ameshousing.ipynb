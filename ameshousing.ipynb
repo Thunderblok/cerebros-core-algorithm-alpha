{
 "cells": [
  {
   "cell_type": "code",
   "execution_count": 10,
   "metadata": {
    "tags": [
     "imports"
    ]
   },
   "outputs": [],
   "source": [
    "import numpy as np\n",
    "# from multiprocessing import Pool  # , Process\n",
    "from cerebros.simplecerebrosrandomsearch.simple_cerebros_random_search\\\n",
    "    import SimpleCerebrosRandomSearch\n",
    "import pendulum\n",
    "import pandas as pd\n",
    "import tensorflow as tf\n",
    "from cerebros.units.units import DenseUnit\n",
    "from cerebros.denseautomlstructuralcomponent.dense_automl_structural_component\\\n",
    "    import zero_7_exp_decay, zero_95_exp_decay, simple_sigmoid\n",
    "from ast import literal_eval"
   ]
  },
  {
   "cell_type": "code",
   "execution_count": 11,
   "metadata": {
    "tags": [
     "pipeline-parameters"
    ]
   },
   "outputs": [],
   "source": [
    "activation = 'relu'\n",
    "predecessor_level_connection_affinity_factor_first = 2.0\n",
    "predecessor_level_connection_affinity_factor_main = 0.97\n",
    "max_consecutive_lateral_connections = 5\n",
    "p_lateral_connection = 0.97\n",
    "num_lateral_connection_tries_per_unit = 2\n",
    "learning_rate = 0.001\n",
    "epochs = 10\n",
    "batch_size = 100"
   ]
  },
  {
   "cell_type": "code",
   "execution_count": 13,
   "metadata": {
    "tags": [
     "block:data_prep"
    ]
   },
   "outputs": [],
   "source": [
    "\n",
    "raw_data = pd.read_csv('ames.csv')\n",
    "needed_cols = [\n",
    "    col for col in raw_data.columns if raw_data[col].dtype != 'object']\n",
    "data_numeric = raw_data[needed_cols].fillna(0).astype(float)\n",
    "label = raw_data.pop('price')\n",
    "\n",
    "data_np = data_numeric.values\n",
    "\n",
    "# np.save('label', label, allow_pickle=True)\n",
    "# np.save('data', data_np, allow_pickle=True)\n",
    "\n",
    "TIME = pendulum.now(tz='America/New_York').__str__()[:16]\\\n",
    "    .replace('T', '_')\\\n",
    "    .replace(':', '_')\\\n",
    "    .replace('-', '_')\n",
    "PROJECT_NAME = f'{TIME}_cerebros_auto_ml_test'\n",
    "\n",
    "# data_np = np.load('data.npy', allow_pickle=True)\n",
    "# labels = np.load('labels.npy', allow_pickle=True)\n",
    "\n",
    "tensor_x =\\\n",
    "    tf.constant(data_np)\n",
    "\n",
    "training_x = [tensor_x]\n",
    "\n",
    "INPUT_SHAPES = [training_x[i].shape[1] for i in np.arange(len(training_x))]\n",
    "\n",
    "\n",
    "#alcohol_labels = tf.constant(pd.get_dummies(pd.cut(white['alcohol'], np.arange(\n",
    "#    white['alcohol'].min(), white['alcohol'].max()))).values)\n",
    "# quality_labels = tf.constant(pd.get_dummies(white['quality']).values)\n",
    "\n",
    "train_labels = [label.values]\n",
    "\n",
    "# OUTPUT_SHAPES = [1]  # [train_labels[i].shape[1]\n",
    "# for i in np.arange(len(train_labels))]\n"
   ]
  },
  {
   "cell_type": "code",
   "execution_count": null,
   "metadata": {
    "tags": [
     "block:train",
     "prev:data_prep"
    ]
   },
   "outputs": [],
   "source": [
    "\n",
    "# TIME = pendulum.now(tz='America/New_York').__str__()[:16]\\\n",
    "#     .replace('T', '_')\\\n",
    "#     .replace(':', '_')\\\n",
    "#     .replace('-', '_')\n",
    "# PROJECT_NAME = f'{TIME}_cerebros_auto_ml_test'\n",
    "\n",
    "# data_np = np.load('data.npy', allow_pickle=True)\n",
    "# labels = np.load('labels.npy', allow_pickle=True)\n",
    "\n",
    "# tensor_x =\\\n",
    "#     tf.constant(data_np)\n",
    "\n",
    "# training_x = [tensor_x]\n",
    "\n",
    "INPUT_SHAPES = [training_x[i].shape[1] for i in np.arange(len(training_x))]\n",
    "\n",
    "\n",
    "# #alcohol_labels = tf.constant(pd.get_dummies(pd.cut(white['alcohol'], np.arange(\n",
    "# #    white['alcohol'].min(), white['alcohol'].max()))).values)\n",
    "# # quality_labels = tf.constant(pd.get_dummies(white['quality']).values)\n",
    "\n",
    "# train_labels = [label.values]\n",
    "\n",
    "OUTPUT_SHAPES = [1]  # [train_labels[i].shape[1]\n",
    "# # for i in np.arange(len(train_labels))]\n",
    "\n",
    "meta_trial_number = str(int(np.random.random() * 10 ** 12))\n",
    "\n",
    "\n",
    "cerebros_automl = SimpleCerebrosRandomSearch(\n",
    "    unit_type=DenseUnit,\n",
    "    input_shapes=INPUT_SHAPES,\n",
    "    output_shapes=OUTPUT_SHAPES,\n",
    "    training_data=training_x,\n",
    "    labels=train_labels,\n",
    "    validation_split=0.35,\n",
    "    direction='minimize',\n",
    "    metric_to_rank_by='val_root_mean_squared_error',\n",
    "    minimum_levels=2,\n",
    "    maximum_levels=7,\n",
    "    minimum_units_per_level=1,\n",
    "    maximum_units_per_level=4,\n",
    "    minimum_neurons_per_unit=1,\n",
    "    maximum_neurons_per_unit=4,\n",
    "    activation=activation,\n",
    "    final_activation=None,\n",
    "    number_of_architecture_moities_to_try=7,\n",
    "    number_of_tries_per_architecture_moity=1,\n",
    "    minimum_skip_connection_depth=1,\n",
    "    maximum_skip_connection_depth=7,\n",
    "    predecessor_level_connection_affinity_factor_first=predecessor_level_connection_affinity_factor_first,\n",
    "    predecessor_level_connection_affinity_factor_first_rounding_rule='ceil',\n",
    "    predecessor_level_connection_affinity_factor_main=predecessor_level_connection_affinity_factor_main,\n",
    "    predecessor_level_connection_affinity_factor_main_rounding_rule='ceil',\n",
    "    predecessor_level_connection_affinity_factor_decay_main=zero_7_exp_decay,\n",
    "    seed=8675309,\n",
    "    max_consecutive_lateral_connections=max_consecutive_lateral_connections,\n",
    "    gate_after_n_lateral_connections=3,\n",
    "    gate_activation_function=simple_sigmoid,\n",
    "    p_lateral_connection=p_lateral_connection,\n",
    "    p_lateral_connection_decay=zero_95_exp_decay,\n",
    "    num_lateral_connection_tries_per_unit=num_lateral_connection_tries_per_unit,\n",
    "    learning_rate=learning_rate,\n",
    "    loss='mse',\n",
    "    metrics=[tf.keras.metrics.RootMeanSquaredError()],\n",
    "    epochs=epochs,\n",
    "    project_name=f\"{PROJECT_NAME}_meta_{meta_trial_number}\",\n",
    "    # use_multiprocessing_for_multiple_neural_networks=False,  # pull this param\n",
    "    model_graphs='model_graphs',\n",
    "    batch_size=batch_size,\n",
    "    meta_trial_number=meta_trial_number)\n",
    "val_root_mean_squared_error = cerebros_automl.run_random_search()\n"
   ]
  },
  {
   "cell_type": "code",
   "execution_count": null,
   "metadata": {
    "tags": [
     "pipeline-metrics"
    ]
   },
   "outputs": [],
   "source": [
    "print(val_root_mean_squared_error)"
   ]
  }
 ],
 "metadata": {
  "kernelspec": {
   "display_name": "Python 3 (ipykernel)",
   "language": "python",
   "name": "python3"
  },
  "kubeflow_notebook": {
   "autosnapshot": false,
   "deploy_config": {},
   "docker_image": "gcr.io/arrikto/jupyter-kale-py38@sha256:5077b32dcbb88b4f9a77b044df2f7d0cf48a3e24932af412b017fca6dff64aaa",
   "experiment": {
    "id": "new",
    "name": "amesnopreprcoessing0002a"
   },
   "experiment_name": "amesnopreprcoessing0002a",
   "katib_metadata": {
    "algorithm": {
     "algorithmName": "bayesianoptimization",
     "algorithmSettings": [
      {
       "name": "random_state",
       "value": "10"
      },
      {
       "name": "acq_optimizer",
       "value": "auto"
      },
      {
       "name": "acq_func",
       "value": "gp_hedge"
      },
      {
       "name": "base_estimator",
       "value": "GP"
      }
     ]
    },
    "maxFailedTrialCount": 1000,
    "maxTrialCount": 1000,
    "objective": {
     "additionalMetricNames": [],
     "goal": 1,
     "objectiveMetricName": "val-root-mean-squared-error",
     "type": "minimize"
    },
    "parallelTrialCount": 3,
    "parameters": [
     {
      "feasibleSpace": {
       "list": [
        "elu",
        "gelu",
        "relu"
       ]
      },
      "name": "activation",
      "parameterType": "categorical"
     },
     {
      "feasibleSpace": {
       "max": "35",
       "min": "0.2",
       "step": "0.2"
      },
      "name": "predecessor_level_connection_affinity_factor_first",
      "parameterType": "double"
     },
     {
      "feasibleSpace": {
       "max": "35",
       "min": "0.2",
       "step": "0.2"
      },
      "name": "predecessor_level_connection_affinity_factor_main",
      "parameterType": "double"
     },
     {
      "feasibleSpace": {
       "max": "40",
       "min": "1",
       "step": "1"
      },
      "name": "max_consecutive_lateral_connections",
      "parameterType": "int"
     },
     {
      "feasibleSpace": {
       "max": "20",
       "min": ".01",
       "step": "0.2"
      },
      "name": "p_lateral_connection",
      "parameterType": "double"
     },
     {
      "feasibleSpace": {
       "max": "20",
       "min": "1",
       "step": "1"
      },
      "name": "num_lateral_connection_tries_per_unit",
      "parameterType": "int"
     },
     {
      "feasibleSpace": {
       "max": "0.3",
       "min": "0.0001",
       "step": "0.001"
      },
      "name": "learning_rate",
      "parameterType": "double"
     },
     {
      "feasibleSpace": {
       "max": "100",
       "min": "1",
       "step": "2"
      },
      "name": "epochs",
      "parameterType": "int"
     },
     {
      "feasibleSpace": {
       "max": "1000",
       "min": "50",
       "step": "10"
      },
      "name": "batch_size",
      "parameterType": "int"
     }
    ]
   },
   "katib_run": true,
   "pipeline_description": "Ames housing ml workflow with no preprocessing.",
   "pipeline_name": "amesnopreprcoessing02a",
   "snapshot_volumes": false,
   "volumes": [
    {
     "annotations": [],
     "mount_point": "/home/jovyan/cerebros-wine-pipeline-datavol-1",
     "name": "cerebros-wine-pipeline-datavol-1-s4w29",
     "size": 5,
     "size_type": "Gi",
     "snapshot": false,
     "type": "clone"
    },
    {
     "annotations": [],
     "mount_point": "/home/jovyan",
     "name": "cerebros-wine-pipeline-workspace-th5gf",
     "size": 5,
     "size_type": "Gi",
     "snapshot": false,
     "type": "clone"
    }
   ]
  },
  "language_info": {
   "codemirror_mode": {
    "name": "ipython",
    "version": 3
   },
   "file_extension": ".py",
   "mimetype": "text/x-python",
   "name": "python",
   "nbconvert_exporter": "python",
   "pygments_lexer": "ipython3",
   "version": "3.8.0"
  }
 },
 "nbformat": 4,
 "nbformat_minor": 4
}
